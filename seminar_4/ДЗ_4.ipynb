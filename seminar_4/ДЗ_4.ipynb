{
  "cells": [
    {
      "cell_type": "markdown",
      "id": "residential-raising",
      "metadata": {
        "id": "residential-raising"
      },
      "source": [
        "## <center>Домашнее задание к семинару: Непрерывная случайная величина."
      ]
    },
    {
      "cell_type": "markdown",
      "id": "lesbian-matter",
      "metadata": {
        "id": "lesbian-matter"
      },
      "source": [
        "**1. Случайная непрерывная величина A имеет равномерное распределение на промежутке $(200, 800]$. Найдите ее среднее значение и дисперсию.**"
      ]
    },
    {
      "cell_type": "markdown",
      "id": "national-civilization",
      "metadata": {
        "id": "national-civilization"
      },
      "source": [
        "Используем формулы для определения мат. ожидания и дисперсии для случайной непрерывной величины $X$, равномерно распределённой на отрезке $[a;b]$:  \n",
        "$\\displaystyle\\text {Математическое ожидание: }M(X)=\\frac{a+b}{2}\\\\\\displaystyle\\text {Дисперсия: }D(X)=\\frac{(b-a)^2}{12}$  \n",
        "Вычислим:  "
      ]
    },
    {
      "cell_type": "code",
      "execution_count": null,
      "id": "pointed-species",
      "metadata": {
        "id": "pointed-species",
        "outputId": "2b7fbb9a-56bc-42e1-c273-48b0bcc3f8df"
      },
      "outputs": [
        {
          "name": "stdout",
          "output_type": "stream",
          "text": [
            "На промежутке (200;800]\n",
            "Среднее значение: М(А) =  500.00\n",
            "Дисперсия: D(A) =  30000.00\n"
          ]
        }
      ],
      "source": [
        "def mean_and_variance(a,b):\n",
        "    return f'На промежутке ({a};{b}]\\nСреднее значение: М(А) = {(a+b)/2: .2f}\\nДисперсия: D(A) = {((b-a)**2)/12: .2f}'\n",
        "print(mean_and_variance(200,800))"
      ]
    },
    {
      "cell_type": "markdown",
      "id": "protected-source",
      "metadata": {
        "id": "protected-source"
      },
      "source": [
        "---  \n",
        "#### Ответ:  \n",
        "$M(A)=500.00\\\\D(A)=30000.00$  \n",
        "\n",
        "---"
      ]
    },
    {
      "cell_type": "markdown",
      "id": "alternative-property",
      "metadata": {
        "id": "alternative-property"
      },
      "source": [
        "**2. О случайной непрерывной равномерно распределенной величине B известно, что ее дисперсия равна 0.2. Можно ли найти правую границу величины B и ее среднее значение зная, что левая граница равна 0.5? Если да, найдите ее.**"
      ]
    },
    {
      "cell_type": "markdown",
      "id": "sought-apple",
      "metadata": {
        "id": "sought-apple"
      },
      "source": [
        "Зная, что дисперсия случайной непрерывной равномерно распределённой на отрезке $(a;b)$величины $B$ находится по формуле:  \n",
        "$\\displaystyle D(B)=\\frac{(b-a)^2}{12}$  \n",
        "И имея заданные значения $D(B)=0.2$ и $a=0.5$  \n",
        "Найдем правую границу $b$ величины $B$ из уравнения  \n",
        "$\\displaystyle \\frac{(b-0.5)^2}{12}=0.2\\\\b-0.5=\\sqrt{2.4}\\\\b=0.5+\\sqrt{2.4}$  \n",
        "И найдем среднее значение по формуле:  \n",
        "$\\displaystyle M(B)=\\frac{a+b}{2}$"
      ]
    },
    {
      "cell_type": "code",
      "execution_count": null,
      "id": "exclusive-settlement",
      "metadata": {
        "id": "exclusive-settlement",
        "outputId": "e11597aa-87e8-4f59-a65c-b94651d0b2cf"
      },
      "outputs": [
        {
          "name": "stdout",
          "output_type": "stream",
          "text": [
            "Левая граница распределения величины В - b =  2.049\n",
            "Среднее значение В на промежутке (0.5;  2.049) M(B) =  1.275\n"
          ]
        }
      ],
      "source": [
        "b=0.5+2.4**(1/2)\n",
        "print(f'Левая граница распределения величины В - b = {b: .3f}\\n'\n",
        "      f'Среднее значение В на промежутке (0.5; {b: .3f}) M(B) = {(b+0.5)/2: .3f}'\n",
        "     )"
      ]
    },
    {
      "cell_type": "markdown",
      "id": "structured-genesis",
      "metadata": {
        "id": "structured-genesis"
      },
      "source": [
        "---\n",
        "#### Ответ:  \n",
        "Левая граница распределения: $b=2.049$  \n",
        "Среднее значение: $M(B)=1.275$  \n",
        "\n",
        "---"
      ]
    },
    {
      "cell_type": "markdown",
      "id": "hidden-rental",
      "metadata": {
        "id": "hidden-rental"
      },
      "source": [
        "**3. Непрерывная случайная величина X распределена нормально и задана плотностью распределения $\\displaystyle f(x)=\\frac{1}{4\\cdot\\sqrt{2\\pi}}\\cdot e^{-\\frac{(x+2)^2}{32}}$, Найдите:**  \n",
        "   **а) $M(X)$**  \n",
        "   **б) $D(X)$**  \n",
        "   **в) $\\displaystyle\\sigma$ (среднее квадратичное отклонение)**"
      ]
    },
    {
      "cell_type": "markdown",
      "id": "loved-thinking",
      "metadata": {
        "id": "loved-thinking"
      },
      "source": [
        "Из общей формулы плотности нормального распределения:  \n",
        "$\\displaystyle f(x)=\\frac{1}{\\sigma\\sqrt{2\\pi}}\\cdot e^{-\\frac{(x-a)^2}{2\\sigma^2}}$  \n",
        "$M(X)=a=-2\\\\\\sigma = 4\\\\D(X)=\\sigma^2=16$"
      ]
    },
    {
      "cell_type": "markdown",
      "id": "dimensional-ribbon",
      "metadata": {
        "id": "dimensional-ribbon"
      },
      "source": [
        "---  \n",
        "#### Ответ:  \n",
        "$M(X)=-2\\\\D(X)=16\\\\\\displaystyle\\sigma=4$  \n",
        "\n",
        "---"
      ]
    },
    {
      "cell_type": "markdown",
      "id": "accompanied-blogger",
      "metadata": {
        "id": "accompanied-blogger"
      },
      "source": [
        "**4. Рост взрослого населения города X имеет нормальное распределение. Причем, средний рост равен 174 см, а среднее квадратичное отклонение равно 8 см. Какова вероятность того, что случайным образом выбранный взрослый человек имеет рост:**  \n",
        "   **а) больше 182 см**  \n",
        "   **б) больше 190 см**  \n",
        "   **в) от 166 см до 190 см**  \n",
        "   **г) от 166 см до 182 см**  \n",
        "   **д) от 158 см до 190 см**  \n",
        "   **е) не выше 150 см или не ниже 190 см**  \n",
        "   **ё) не выше 150 см или не ниже 198 см**  \n",
        "   **ж) ниже 166 см.**  "
      ]
    },
    {
      "cell_type": "markdown",
      "id": "academic-importance",
      "metadata": {
        "id": "academic-importance"
      },
      "source": [
        "Напишем функцию для определения $Z$-значений для данного распределения:"
      ]
    },
    {
      "cell_type": "code",
      "execution_count": null,
      "id": "convenient-terminal",
      "metadata": {
        "id": "convenient-terminal"
      },
      "outputs": [],
      "source": [
        "def z_value(height):\n",
        "    return (height-174)/8"
      ]
    },
    {
      "cell_type": "markdown",
      "id": "grave-ordering",
      "metadata": {
        "id": "grave-ordering"
      },
      "source": [
        "Для расчета значений вероятности воспользуемся калькулятором на этом [сайте](https://gallery.shinyapps.io/dist_calc/),   \n",
        "\n",
        "либо таблицами [тут](https://datascience.eu/ru/%D0%BC%D0%B0%D1%82%D0%B5%D0%BC%D0%B0%D1%82%D0%B8%D0%BA%D0%B0-%D0%B8-%D1%81%D1%82%D0%B0%D1%82%D0%B8%D1%81%D1%82%D0%B8%D0%BA%D0%B0/z-%D1%82%D0%B0%D0%B1%D0%BB%D0%B8%D1%86%D0%B0/),  \n",
        "\n",
        "либо методом cdf, объекта NormalDist стандартного модуля statistics"
      ]
    },
    {
      "cell_type": "code",
      "execution_count": null,
      "id": "stock-handbook",
      "metadata": {
        "id": "stock-handbook"
      },
      "outputs": [],
      "source": [
        "from statistics import NormalDist"
      ]
    },
    {
      "cell_type": "markdown",
      "id": "scenic-romania",
      "metadata": {
        "id": "scenic-romania"
      },
      "source": [
        "a) Определим $Z$-значениe:"
      ]
    },
    {
      "cell_type": "code",
      "execution_count": null,
      "id": "described-little",
      "metadata": {
        "id": "described-little",
        "outputId": "33a37927-7171-46d4-d9d1-d67691cfc97f"
      },
      "outputs": [
        {
          "name": "stdout",
          "output_type": "stream",
          "text": [
            "1.0\n"
          ]
        }
      ],
      "source": [
        "print(z_value(182))"
      ]
    },
    {
      "cell_type": "markdown",
      "id": "foreign-clerk",
      "metadata": {
        "id": "foreign-clerk"
      },
      "source": [
        "метод cdf определяет вероятность того, что случайная величина X будет меньше или равна x, т.е в данном случае $P(X\\le182)$"
      ]
    },
    {
      "cell_type": "code",
      "execution_count": null,
      "id": "abandoned-diesel",
      "metadata": {
        "id": "abandoned-diesel",
        "outputId": "975f2bb7-f685-42c3-ed10-50c43f0b9209"
      },
      "outputs": [
        {
          "data": {
            "text/plain": [
              "0.8413447460685428"
            ]
          },
          "execution_count": 50,
          "metadata": {},
          "output_type": "execute_result"
        }
      ],
      "source": [
        "NormalDist().cdf(z_value(182))"
      ]
    },
    {
      "cell_type": "markdown",
      "id": "grateful-catalyst",
      "metadata": {
        "id": "grateful-catalyst"
      },
      "source": [
        "Однако нам нужна вероятность $P(X\\ge182)$, поэтому вычтем полученное значение из $1$:"
      ]
    },
    {
      "cell_type": "code",
      "execution_count": null,
      "id": "standard-monkey",
      "metadata": {
        "id": "standard-monkey",
        "outputId": "ef65b18e-f92b-4daf-edbe-c550577946c0"
      },
      "outputs": [
        {
          "data": {
            "text/plain": [
              "0.15865525393145719"
            ]
          },
          "execution_count": 51,
          "metadata": {},
          "output_type": "execute_result"
        }
      ],
      "source": [
        "P=1-NormalDist().cdf(z_value(182))\n",
        "P"
      ]
    },
    {
      "cell_type": "markdown",
      "id": "wound-grenada",
      "metadata": {
        "id": "wound-grenada"
      },
      "source": [
        "$P(X\\ge182)=0.1587$  \n",
        "\n",
        "---"
      ]
    },
    {
      "cell_type": "markdown",
      "id": "powerful-texture",
      "metadata": {
        "id": "powerful-texture"
      },
      "source": [
        "б) Определим $Z$-значениe:"
      ]
    },
    {
      "cell_type": "code",
      "execution_count": null,
      "id": "neither-breakdown",
      "metadata": {
        "id": "neither-breakdown",
        "outputId": "90b9d62d-c389-4b81-fa05-ff3ee47ed011"
      },
      "outputs": [
        {
          "data": {
            "text/plain": [
              "2.0"
            ]
          },
          "execution_count": 52,
          "metadata": {},
          "output_type": "execute_result"
        }
      ],
      "source": [
        "z=z_value(190)\n",
        "z"
      ]
    },
    {
      "cell_type": "markdown",
      "id": "direct-perspective",
      "metadata": {
        "id": "direct-perspective"
      },
      "source": [
        "Определим $P(X\\ge190)$"
      ]
    },
    {
      "cell_type": "code",
      "execution_count": null,
      "id": "dynamic-consortium",
      "metadata": {
        "id": "dynamic-consortium",
        "outputId": "4652428d-b679-4e92-ab50-c0253f95a99a"
      },
      "outputs": [
        {
          "data": {
            "text/plain": [
              "0.022750131948179098"
            ]
          },
          "execution_count": 53,
          "metadata": {},
          "output_type": "execute_result"
        }
      ],
      "source": [
        "P=1-NormalDist().cdf(z)\n",
        "P"
      ]
    },
    {
      "cell_type": "markdown",
      "id": "amateur-proposal",
      "metadata": {
        "id": "amateur-proposal"
      },
      "source": [
        "$P(X\\ge190)=0.02275$  \n",
        "\n",
        "---"
      ]
    },
    {
      "cell_type": "markdown",
      "id": "international-wheel",
      "metadata": {
        "id": "international-wheel"
      },
      "source": [
        "в) Определим $Z_1$ и $Z_2$"
      ]
    },
    {
      "cell_type": "code",
      "execution_count": null,
      "id": "funky-adapter",
      "metadata": {
        "id": "funky-adapter",
        "outputId": "a863a197-82d2-4731-cb0f-5e1a78724214"
      },
      "outputs": [
        {
          "data": {
            "text/plain": [
              "-1.0"
            ]
          },
          "execution_count": 54,
          "metadata": {},
          "output_type": "execute_result"
        }
      ],
      "source": [
        "z1=z_value(166)\n",
        "z1"
      ]
    },
    {
      "cell_type": "code",
      "execution_count": null,
      "id": "polish-penalty",
      "metadata": {
        "id": "polish-penalty",
        "outputId": "13039ede-7615-4c1f-9f2a-cc7e2a7d49d9"
      },
      "outputs": [
        {
          "data": {
            "text/plain": [
              "2.0"
            ]
          },
          "execution_count": 55,
          "metadata": {},
          "output_type": "execute_result"
        }
      ],
      "source": [
        "z2=z_value(190)\n",
        "z2"
      ]
    },
    {
      "cell_type": "markdown",
      "id": "sound-limitation",
      "metadata": {
        "id": "sound-limitation"
      },
      "source": [
        "Определим $P(166\\le X\\le 190)$"
      ]
    },
    {
      "cell_type": "code",
      "execution_count": null,
      "id": "acceptable-timer",
      "metadata": {
        "id": "acceptable-timer",
        "outputId": "bf577b21-fd98-4117-e3d1-41c77e2b0403"
      },
      "outputs": [
        {
          "data": {
            "text/plain": [
              "0.8185946141203637"
            ]
          },
          "execution_count": 56,
          "metadata": {},
          "output_type": "execute_result"
        }
      ],
      "source": [
        "P=NormalDist().cdf(z2)-NormalDist().cdf(z1)\n",
        "P"
      ]
    },
    {
      "cell_type": "markdown",
      "id": "heated-mount",
      "metadata": {
        "id": "heated-mount"
      },
      "source": [
        "$P(166\\le X\\le 190)=0.8186$  \n",
        "\n",
        "---"
      ]
    },
    {
      "cell_type": "markdown",
      "id": "diverse-sherman",
      "metadata": {
        "id": "diverse-sherman"
      },
      "source": [
        "г) Определим $Z_1$ и $Z_2$"
      ]
    },
    {
      "cell_type": "code",
      "execution_count": null,
      "id": "impossible-ottawa",
      "metadata": {
        "id": "impossible-ottawa",
        "outputId": "2ca0706a-ab43-40b0-fc7b-004edabe1fe2"
      },
      "outputs": [
        {
          "data": {
            "text/plain": [
              "-1.0"
            ]
          },
          "execution_count": 57,
          "metadata": {},
          "output_type": "execute_result"
        }
      ],
      "source": [
        "z1=z_value(166)\n",
        "z1"
      ]
    },
    {
      "cell_type": "code",
      "execution_count": null,
      "id": "characteristic-thailand",
      "metadata": {
        "id": "characteristic-thailand",
        "outputId": "f495d713-fec3-45cb-abbc-7223737ba68d"
      },
      "outputs": [
        {
          "data": {
            "text/plain": [
              "1.0"
            ]
          },
          "execution_count": 58,
          "metadata": {},
          "output_type": "execute_result"
        }
      ],
      "source": [
        "z2=z_value(182)\n",
        "z2"
      ]
    },
    {
      "cell_type": "markdown",
      "id": "genuine-biodiversity",
      "metadata": {
        "id": "genuine-biodiversity"
      },
      "source": [
        "Определим $P(166\\le X\\le 182)$"
      ]
    },
    {
      "cell_type": "code",
      "execution_count": null,
      "id": "confused-frequency",
      "metadata": {
        "id": "confused-frequency",
        "outputId": "1b82e0c5-72d0-42a5-9934-77b1a395a670"
      },
      "outputs": [
        {
          "data": {
            "text/plain": [
              "0.6826894921370856"
            ]
          },
          "execution_count": 59,
          "metadata": {},
          "output_type": "execute_result"
        }
      ],
      "source": [
        "P=NormalDist().cdf(z2)-NormalDist().cdf(z1)\n",
        "P"
      ]
    },
    {
      "cell_type": "markdown",
      "id": "intimate-obligation",
      "metadata": {
        "id": "intimate-obligation"
      },
      "source": [
        "$P(166\\le X\\le 182)=0.6827$  \n",
        "\n",
        "---"
      ]
    },
    {
      "cell_type": "markdown",
      "id": "criminal-setting",
      "metadata": {
        "id": "criminal-setting"
      },
      "source": [
        "д) Определим $Z_1$ и $Z_2$"
      ]
    },
    {
      "cell_type": "code",
      "execution_count": null,
      "id": "southeast-prime",
      "metadata": {
        "id": "southeast-prime",
        "outputId": "bc258ad8-8aba-4b77-c7a0-2e2c6a92ecdc"
      },
      "outputs": [
        {
          "data": {
            "text/plain": [
              "-2.0"
            ]
          },
          "execution_count": 60,
          "metadata": {},
          "output_type": "execute_result"
        }
      ],
      "source": [
        "z1=z_value(158)\n",
        "z1"
      ]
    },
    {
      "cell_type": "code",
      "execution_count": null,
      "id": "important-former",
      "metadata": {
        "id": "important-former",
        "outputId": "bd4c3d7b-3627-479a-9069-d4a3875a9489"
      },
      "outputs": [
        {
          "data": {
            "text/plain": [
              "2.0"
            ]
          },
          "execution_count": 61,
          "metadata": {},
          "output_type": "execute_result"
        }
      ],
      "source": [
        "z2=z_value(190)\n",
        "z2"
      ]
    },
    {
      "cell_type": "markdown",
      "id": "coordinated-protocol",
      "metadata": {
        "id": "coordinated-protocol"
      },
      "source": [
        "Определим $P(158\\le X\\le 190)$"
      ]
    },
    {
      "cell_type": "code",
      "execution_count": null,
      "id": "educated-penguin",
      "metadata": {
        "id": "educated-penguin",
        "outputId": "4690d0bf-a3ee-48c0-8f1f-19ba19dad6db"
      },
      "outputs": [
        {
          "data": {
            "text/plain": [
              "0.9544997361036418"
            ]
          },
          "execution_count": 62,
          "metadata": {},
          "output_type": "execute_result"
        }
      ],
      "source": [
        "P=NormalDist().cdf(z2)-NormalDist().cdf(z1)\n",
        "P"
      ]
    },
    {
      "cell_type": "markdown",
      "id": "systematic-corpus",
      "metadata": {
        "id": "systematic-corpus"
      },
      "source": [
        "$P(158\\le X\\le 190)=0.9545$  \n",
        "\n",
        "---"
      ]
    },
    {
      "cell_type": "markdown",
      "id": "wanted-viking",
      "metadata": {
        "id": "wanted-viking"
      },
      "source": [
        "е) Определим $Z_1$ и $Z_2$"
      ]
    },
    {
      "cell_type": "code",
      "execution_count": null,
      "id": "executive-closer",
      "metadata": {
        "id": "executive-closer",
        "outputId": "494ba515-c211-4c12-b8d4-fc0372dd6ad9"
      },
      "outputs": [
        {
          "data": {
            "text/plain": [
              "-3.0"
            ]
          },
          "execution_count": 63,
          "metadata": {},
          "output_type": "execute_result"
        }
      ],
      "source": [
        "z1=z_value(150)\n",
        "z1"
      ]
    },
    {
      "cell_type": "code",
      "execution_count": null,
      "id": "pointed-flight",
      "metadata": {
        "id": "pointed-flight",
        "outputId": "9dc3a203-b759-4757-8e44-67ea893bc703"
      },
      "outputs": [
        {
          "data": {
            "text/plain": [
              "2.0"
            ]
          },
          "execution_count": 64,
          "metadata": {},
          "output_type": "execute_result"
        }
      ],
      "source": [
        "z2=z_value(190)\n",
        "z2"
      ]
    },
    {
      "cell_type": "markdown",
      "id": "numeric-norfolk",
      "metadata": {
        "id": "numeric-norfolk"
      },
      "source": [
        "Определим $P(X\\le150\\cup X\\ge 190)$"
      ]
    },
    {
      "cell_type": "code",
      "execution_count": null,
      "id": "million-essay",
      "metadata": {
        "id": "million-essay",
        "outputId": "1f78428a-aed8-4e7d-eace-59266bec66a5"
      },
      "outputs": [
        {
          "data": {
            "text/plain": [
              "0.0241000299798092"
            ]
          },
          "execution_count": 65,
          "metadata": {},
          "output_type": "execute_result"
        }
      ],
      "source": [
        "P=NormalDist().cdf(z1)+(1-NormalDist().cdf(z2))\n",
        "P"
      ]
    },
    {
      "cell_type": "markdown",
      "id": "amazing-contract",
      "metadata": {
        "id": "amazing-contract"
      },
      "source": [
        "$P(X\\le150\\cup X\\ge 190)=0.0241$  \n",
        "\n",
        "---"
      ]
    },
    {
      "cell_type": "markdown",
      "id": "mechanical-moscow",
      "metadata": {
        "id": "mechanical-moscow"
      },
      "source": [
        "ё) Определим $Z_1$ и $Z_2$"
      ]
    },
    {
      "cell_type": "code",
      "execution_count": null,
      "id": "brief-breeding",
      "metadata": {
        "id": "brief-breeding",
        "outputId": "3a18fda8-914e-47b3-85b1-101ecfd3cec5"
      },
      "outputs": [
        {
          "data": {
            "text/plain": [
              "-3.0"
            ]
          },
          "execution_count": 66,
          "metadata": {},
          "output_type": "execute_result"
        }
      ],
      "source": [
        "z1=z_value(150)\n",
        "z1"
      ]
    },
    {
      "cell_type": "code",
      "execution_count": null,
      "id": "second-pointer",
      "metadata": {
        "id": "second-pointer",
        "outputId": "a2ee7817-3d39-4f6e-9dfa-f7e658cd64e1"
      },
      "outputs": [
        {
          "data": {
            "text/plain": [
              "3.0"
            ]
          },
          "execution_count": 67,
          "metadata": {},
          "output_type": "execute_result"
        }
      ],
      "source": [
        "z2=z_value(198)\n",
        "z2"
      ]
    },
    {
      "cell_type": "markdown",
      "id": "simplified-circuit",
      "metadata": {
        "id": "simplified-circuit"
      },
      "source": [
        "Определим $P(X\\le150\\cup X\\ge 198)$"
      ]
    },
    {
      "cell_type": "code",
      "execution_count": null,
      "id": "greater-district",
      "metadata": {
        "id": "greater-district",
        "outputId": "1489ee9f-c578-4512-e46a-3e2eb40e9cbe"
      },
      "outputs": [
        {
          "data": {
            "text/plain": [
              "0.002699796063260207"
            ]
          },
          "execution_count": 68,
          "metadata": {},
          "output_type": "execute_result"
        }
      ],
      "source": [
        "P=NormalDist().cdf(z1)+(1-NormalDist().cdf(z2))\n",
        "P"
      ]
    },
    {
      "cell_type": "markdown",
      "id": "protected-corpus",
      "metadata": {
        "id": "protected-corpus"
      },
      "source": [
        "$P(X\\le150\\cup X\\ge 198)=0.0027$  \n",
        "\n",
        "---"
      ]
    },
    {
      "cell_type": "markdown",
      "id": "assigned-chest",
      "metadata": {
        "id": "assigned-chest"
      },
      "source": [
        "ж) Определим $Z$-значениe:"
      ]
    },
    {
      "cell_type": "code",
      "execution_count": null,
      "id": "armed-yeast",
      "metadata": {
        "id": "armed-yeast",
        "outputId": "f38965ab-69d4-4a97-c840-40a995d64298"
      },
      "outputs": [
        {
          "data": {
            "text/plain": [
              "-1.0"
            ]
          },
          "execution_count": 71,
          "metadata": {},
          "output_type": "execute_result"
        }
      ],
      "source": [
        "z=z_value(166)\n",
        "z"
      ]
    },
    {
      "cell_type": "markdown",
      "id": "medical-shore",
      "metadata": {
        "id": "medical-shore"
      },
      "source": [
        "Определим $P(X\\le166)$"
      ]
    },
    {
      "cell_type": "code",
      "execution_count": null,
      "id": "amber-ebony",
      "metadata": {
        "id": "amber-ebony",
        "outputId": "c61fb56e-0015-4e5e-b567-36796899c992"
      },
      "outputs": [
        {
          "data": {
            "text/plain": [
              "0.15865525393145713"
            ]
          },
          "execution_count": 72,
          "metadata": {},
          "output_type": "execute_result"
        }
      ],
      "source": [
        "P=NormalDist().cdf(z)\n",
        "P"
      ]
    },
    {
      "cell_type": "markdown",
      "id": "wound-discount",
      "metadata": {
        "id": "wound-discount"
      },
      "source": [
        "$P(X\\le166)=0.1587$  \n",
        "\n",
        "---"
      ]
    },
    {
      "cell_type": "markdown",
      "id": "positive-speaker",
      "metadata": {
        "id": "positive-speaker"
      },
      "source": [
        "#### Ответ:  \n",
        "   а) $P(X\\ge182)=0.1587$;  \n",
        "   б) $P(X\\ge190)=0.02275$;  \n",
        "   в) $P(166\\le X\\le 190)=0.8186$;  \n",
        "   г) $P(166\\le X\\le 182)=0.6827$;  \n",
        "   д) $P(158\\le X\\le 190)=0.9545$;  \n",
        "   е) $P(X\\le150\\cup X\\ge 190)=0.0241$;  \n",
        "   ё) $P(X\\le150\\cup X\\ge 198)=0.0027$;  \n",
        "   ж) $P(X\\le166)=0.1587$;  \n",
        "\n",
        "---"
      ]
    },
    {
      "cell_type": "markdown",
      "id": "solid-turtle",
      "metadata": {
        "id": "solid-turtle"
      },
      "source": [
        "**5. На сколько сигм (средних квадратичных отклонений) отклоняется рост человека, равный 190 см, от математического ожидания роста в популяции, в которой M(X) = 178 см и D(X) = 25 кв.см?**  "
      ]
    },
    {
      "cell_type": "markdown",
      "id": "mighty-flexibility",
      "metadata": {
        "id": "mighty-flexibility"
      },
      "source": [
        "Воспользуемся формулой расчета $Z$-оценки:  \n",
        "$\\displaystyle Z=\\frac{X-\\bar x}{\\sigma}=\\frac{190-178}{\\sqrt{25}}=\\frac{12}{5}$    "
      ]
    },
    {
      "cell_type": "code",
      "execution_count": null,
      "id": "sporting-control",
      "metadata": {
        "id": "sporting-control",
        "outputId": "cc5f6470-9495-44ad-d3dc-b42d320782ce"
      },
      "outputs": [
        {
          "data": {
            "text/plain": [
              "2.4"
            ]
          },
          "execution_count": 73,
          "metadata": {},
          "output_type": "execute_result"
        }
      ],
      "source": [
        "Z=(190-178)/25**(1/2)\n",
        "Z"
      ]
    },
    {
      "cell_type": "code",
      "execution_count": null,
      "id": "systematic-qatar",
      "metadata": {
        "id": "systematic-qatar",
        "outputId": "e800e25c-b34a-4f6a-b681-5d8b1456fdb8"
      },
      "outputs": [
        {
          "name": "stdout",
          "output_type": "stream",
          "text": [
            "Рост человека, равный 190 см, отклоняется от математического ожидания роста в популяции, \n",
            "в которой M(X) = 178 см и D(X) = 25 кв.см на Z = 2.4 сигм.\n"
          ]
        }
      ],
      "source": [
        "print(f'Рост человека, равный 190 см, отклоняется от математического ожидания роста в популяции, \\n'\n",
        "      f'в которой M(X) = 178 см и D(X) = 25 кв.см на Z = {Z} сигм.')"
      ]
    },
    {
      "cell_type": "markdown",
      "id": "sorted-omaha",
      "metadata": {
        "id": "sorted-omaha"
      },
      "source": [
        "---  \n",
        "#### Ответ:  \n",
        "на $2.4$ сигмы  \n",
        "\n",
        "---"
      ]
    }
  ],
  "metadata": {
    "kernelspec": {
      "display_name": "Python 3",
      "language": "python",
      "name": "python3"
    },
    "language_info": {
      "codemirror_mode": {
        "name": "ipython",
        "version": 3
      },
      "file_extension": ".py",
      "mimetype": "text/x-python",
      "name": "python",
      "nbconvert_exporter": "python",
      "pygments_lexer": "ipython3",
      "version": "3.8.5"
    },
    "colab": {
      "provenance": []
    }
  },
  "nbformat": 4,
  "nbformat_minor": 5
}