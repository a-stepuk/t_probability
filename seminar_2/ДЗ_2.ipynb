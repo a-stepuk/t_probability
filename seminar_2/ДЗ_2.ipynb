{
  "cells": [
    {
      "cell_type": "markdown",
      "metadata": {
        "id": "GWu1bqvS5RUU"
      },
      "source": [
        "### Задание 1\n",
        "Вероятность того, что стрелок попадет в мишень, выстрелив один раз, равна 0.8. Стрелок выстрелил 100 раз. Найдите вероятность того, что стрелок попадет в цель ровно 85 раз.\n"
      ]
    },
    {
      "cell_type": "markdown",
      "metadata": {
        "id": "BoafKyAh5RUY"
      },
      "source": [
        "$$p = C_{100}^{85}\\cdot{0.8}^{85}\\cdot{0.2}^{15} =0.048 $$"
      ]
    },
    {
      "cell_type": "code",
      "execution_count": null,
      "metadata": {
        "id": "s9OlN7815RUZ"
      },
      "outputs": [],
      "source": [
        "import numpy as np\n",
        "from math import factorial as f\n",
        "\n",
        "def choose(n,k):\n",
        "    return f(n) / (f(k) * f(n-k))\n",
        "\n",
        "def bern(p, n, k):\n",
        "    return choose(n,k) * p**(k) * (1 - p)**(n - k)\n",
        "\n",
        "def puas(l,m):\n",
        "    return l**m/f(m)*np.exp(-l)"
      ]
    },
    {
      "cell_type": "code",
      "execution_count": null,
      "metadata": {
        "id": "4RQF0-fb5RUb",
        "outputId": "fc5bf852-a42f-4919-f847-cc30dfba7d4a"
      },
      "outputs": [
        {
          "data": {
            "text/plain": [
              "0.048061793700746355"
            ]
          },
          "execution_count": 2,
          "metadata": {},
          "output_type": "execute_result"
        }
      ],
      "source": [
        "bern(0.8, 100, 85)"
      ]
    },
    {
      "cell_type": "markdown",
      "metadata": {
        "id": "6Mx324Ub5RUd"
      },
      "source": [
        "### Задание 2\n",
        "Вероятность того, что лампочка перегорит в течение первого дня эксплуатации, равна 0.0004. В жилом комплексе после ремонта в один день включили 5000 новых лампочек."
      ]
    },
    {
      "cell_type": "markdown",
      "metadata": {
        "id": "3Msum6EY5RUd"
      },
      "source": [
        "2.1 Какова вероятность, что ни одна из них не перегорит в первый день?"
      ]
    },
    {
      "cell_type": "markdown",
      "metadata": {
        "id": "Tz68GjzB5RUe"
      },
      "source": [
        "$$P \\approx \\frac{\\lambda^m}{m!}e^{-\\lambda} \\approx \\frac{2^{0}}{0!}e^{-2} \\approx  0.135$$"
      ]
    },
    {
      "cell_type": "markdown",
      "metadata": {
        "id": "Zm4k6QPe5RUe"
      },
      "source": [
        "$\\lambda = 5000\\cdot0.0004 = 2$"
      ]
    },
    {
      "cell_type": "markdown",
      "metadata": {
        "id": "9ruyGu7o5RUf"
      },
      "source": [
        "$m =0$"
      ]
    },
    {
      "cell_type": "code",
      "execution_count": null,
      "metadata": {
        "id": "bYYRmc2A5RUf"
      },
      "outputs": [],
      "source": [
        "lmbd = 5000*0.0004"
      ]
    },
    {
      "cell_type": "code",
      "execution_count": null,
      "metadata": {
        "id": "QTSH2neD5RUg",
        "outputId": "048c281d-aa99-4388-a1fd-6541784b7533"
      },
      "outputs": [
        {
          "data": {
            "text/plain": [
              "0.1353352832366127"
            ]
          },
          "execution_count": 4,
          "metadata": {},
          "output_type": "execute_result"
        }
      ],
      "source": [
        "puas(lmbd, 0)"
      ]
    },
    {
      "cell_type": "markdown",
      "metadata": {
        "id": "y58R_8IF5RUg"
      },
      "source": [
        "2.2 Какова вероятность, что перегорят ровно две?"
      ]
    },
    {
      "cell_type": "markdown",
      "metadata": {
        "id": "khrdLraO5RUh"
      },
      "source": [
        "$$P \\approx \\frac{\\lambda^m}{m!}e^{-\\lambda} \\approx \\frac{2^{2}}{2!}e^{-2} \\approx  0.27$$"
      ]
    },
    {
      "cell_type": "code",
      "execution_count": null,
      "metadata": {
        "id": "8UYzfpjm5RUh",
        "outputId": "9992330e-bc4a-4238-92bf-e6b46f509892"
      },
      "outputs": [
        {
          "data": {
            "text/plain": [
              "0.2706705664732254"
            ]
          },
          "execution_count": 5,
          "metadata": {},
          "output_type": "execute_result"
        }
      ],
      "source": [
        "puas(lmbd, 2)"
      ]
    },
    {
      "cell_type": "markdown",
      "metadata": {
        "id": "L1DuhthI5RUh"
      },
      "source": [
        "### Задание 3\n",
        "Монету подбросили 144 раза. Какова вероятность, что орел выпадет ровно 70 раз?"
      ]
    },
    {
      "cell_type": "markdown",
      "metadata": {
        "id": "egfGMB3Z5RUh"
      },
      "source": [
        "$$P \\approx 0.063$$"
      ]
    },
    {
      "cell_type": "code",
      "execution_count": null,
      "metadata": {
        "id": "lJxNoc1n5RUi",
        "outputId": "93c022fe-5dc4-405a-e26b-b25387316e2d"
      },
      "outputs": [
        {
          "data": {
            "text/plain": [
              "0.06281178035144776"
            ]
          },
          "execution_count": 6,
          "metadata": {},
          "output_type": "execute_result"
        }
      ],
      "source": [
        "bern(0.5, 144, 70)"
      ]
    },
    {
      "cell_type": "markdown",
      "metadata": {
        "id": "ALLDt7pW5RUi"
      },
      "source": [
        "### Задание 4\n",
        "В первом ящике находится 10 мячей, из которых 7 - белые. Во втором ящике - 11 мячей, из которых 9 белых. Из каждого ящика вытаскивают случайным образом по два мяча."
      ]
    },
    {
      "cell_type": "markdown",
      "metadata": {
        "id": "aBOe8iRK5RUi"
      },
      "source": [
        "4.1 Какова вероятность того, что все мячи белые?"
      ]
    },
    {
      "cell_type": "markdown",
      "metadata": {
        "id": "zfh6ySB15RUk"
      },
      "source": [
        "$$ P = (\\frac{7}{10} \\cdot \\frac{6}{9}) \\cdot (\\frac{9}{11}\\cdot \\frac{8}{10}) \\approx 0.31 $$"
      ]
    },
    {
      "cell_type": "code",
      "execution_count": null,
      "metadata": {
        "id": "evJ6XIrU5RUk",
        "outputId": "e9ca87cf-5a93-4ff7-a2de-fa053d9bf8ff"
      },
      "outputs": [
        {
          "data": {
            "text/plain": [
              "0.3054545454545455"
            ]
          },
          "execution_count": 7,
          "metadata": {},
          "output_type": "execute_result"
        }
      ],
      "source": [
        "(7*6*9*8)/(10*9*11*10)"
      ]
    },
    {
      "cell_type": "markdown",
      "metadata": {
        "id": "0hblcbSv5RUk"
      },
      "source": [
        "4.2 Какова вероятность того, что ровно два мяча белые?"
      ]
    },
    {
      "cell_type": "markdown",
      "metadata": {
        "id": "4jH6qMmn5RUk"
      },
      "source": [
        "6 возможных вариантов = (бб)(чч)+(бч)(бч)+(бч)(чб)+(чб)(бч)+(чб)(чб)+(чч)(бб)"
      ]
    },
    {
      "cell_type": "markdown",
      "metadata": {
        "id": "d16aKbe_5RUl"
      },
      "source": [
        "$$ P \\approx 0.20 $$"
      ]
    },
    {
      "cell_type": "code",
      "execution_count": null,
      "metadata": {
        "scrolled": true,
        "id": "B-QR1-D85RUl",
        "outputId": "b97e058a-e7d9-4453-8294-f8c8ba740a8b"
      },
      "outputs": [
        {
          "data": {
            "text/plain": [
              "0.20484848484848484"
            ]
          },
          "execution_count": 8,
          "metadata": {},
          "output_type": "execute_result"
        }
      ],
      "source": [
        "(7/10)*(6/9)*(2/11)*(1/10) + (7/10)*(3/9)*(9/11)*(2/10) + (7/10)*(3/9)*(2/11)*(9/10) + \\\n",
        "(3/10)*(7/9)*(9/11)*(2/10) + (3/10)*(7/9)*(2/11)*(9/10) + (3/10)*(2/9)*(9/11)*(8/10)\n"
      ]
    },
    {
      "cell_type": "markdown",
      "metadata": {
        "id": "9-3U-QOA5RUl"
      },
      "source": [
        "4.3 Какова вероятность того, что хотя бы один мяч белый?"
      ]
    },
    {
      "cell_type": "markdown",
      "metadata": {
        "id": "7_fzhBSK5RUl"
      },
      "source": [
        "1 - вероятность что все черные"
      ]
    },
    {
      "cell_type": "markdown",
      "metadata": {
        "id": "GgWljPHD5RUm"
      },
      "source": [
        "$$ P \\approx 0.999 $$"
      ]
    },
    {
      "cell_type": "code",
      "execution_count": null,
      "metadata": {
        "id": "Ac1jL8Mz5RUm",
        "outputId": "d7bf7c05-4418-43be-89a3-47dafcd39edd"
      },
      "outputs": [
        {
          "data": {
            "text/plain": [
              "0.9987878787878788"
            ]
          },
          "execution_count": 9,
          "metadata": {},
          "output_type": "execute_result"
        }
      ],
      "source": [
        "1-(3/10*2/9*2/11*1/10)"
      ]
    }
  ],
  "metadata": {
    "kernelspec": {
      "display_name": "Python 3",
      "language": "python",
      "name": "python3"
    },
    "language_info": {
      "codemirror_mode": {
        "name": "ipython",
        "version": 3
      },
      "file_extension": ".py",
      "mimetype": "text/x-python",
      "name": "python",
      "nbconvert_exporter": "python",
      "pygments_lexer": "ipython3",
      "version": "3.7.1"
    },
    "colab": {
      "provenance": []
    }
  },
  "nbformat": 4,
  "nbformat_minor": 0
}